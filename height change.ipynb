{
 "cells": [
  {
   "cell_type": "code",
   "execution_count": 236,
   "metadata": {},
   "outputs": [
    {
     "data": {
      "text/html": [
       "<div>\n",
       "<style scoped>\n",
       "    .dataframe tbody tr th:only-of-type {\n",
       "        vertical-align: middle;\n",
       "    }\n",
       "\n",
       "    .dataframe tbody tr th {\n",
       "        vertical-align: top;\n",
       "    }\n",
       "\n",
       "    .dataframe thead th {\n",
       "        text-align: right;\n",
       "    }\n",
       "</style>\n",
       "<table border=\"1\" class=\"dataframe\">\n",
       "  <thead>\n",
       "    <tr style=\"text-align: right;\">\n",
       "      <th></th>\n",
       "      <th>NO.</th>\n",
       "      <th>Invert space</th>\n",
       "      <th>Preop R1</th>\n",
       "      <th>Postop R2</th>\n",
       "    </tr>\n",
       "  </thead>\n",
       "  <tbody>\n",
       "    <tr>\n",
       "      <th>0</th>\n",
       "      <td>1</td>\n",
       "      <td>L4-L5</td>\n",
       "      <td>0.179</td>\n",
       "      <td>0.185</td>\n",
       "    </tr>\n",
       "    <tr>\n",
       "      <th>1</th>\n",
       "      <td>2</td>\n",
       "      <td>L4-L5</td>\n",
       "      <td>0.318</td>\n",
       "      <td>0.375</td>\n",
       "    </tr>\n",
       "    <tr>\n",
       "      <th>2</th>\n",
       "      <td>3</td>\n",
       "      <td>L4-L5</td>\n",
       "      <td>0.223</td>\n",
       "      <td>0.260</td>\n",
       "    </tr>\n",
       "    <tr>\n",
       "      <th>3</th>\n",
       "      <td>4</td>\n",
       "      <td>L4-L5</td>\n",
       "      <td>0.263</td>\n",
       "      <td>0.267</td>\n",
       "    </tr>\n",
       "    <tr>\n",
       "      <th>4</th>\n",
       "      <td>5</td>\n",
       "      <td>L4-L5</td>\n",
       "      <td>0.233</td>\n",
       "      <td>0.234</td>\n",
       "    </tr>\n",
       "  </tbody>\n",
       "</table>\n",
       "</div>"
      ],
      "text/plain": [
       "   NO. Invert space  Preop R1  Postop R2\n",
       "0    1        L4-L5     0.179      0.185\n",
       "1    2        L4-L5     0.318      0.375\n",
       "2    3        L4-L5     0.223      0.260\n",
       "3    4        L4-L5     0.263      0.267\n",
       "4    5        L4-L5     0.233      0.234"
      ]
     },
     "execution_count": 236,
     "metadata": {},
     "output_type": "execute_result"
    }
   ],
   "source": [
    "import seaborn as sns; sns.set()\n",
    "import pandas as pd\n",
    "import matplotlib.pyplot as plt\n",
    "import numpy as np \n",
    "import statistics\n",
    "L4 = pd.read_csv(\"L4-L5.csv\")\n",
    "L4.head()"
   ]
  },
  {
   "cell_type": "code",
   "execution_count": 237,
   "metadata": {},
   "outputs": [
    {
     "data": {
      "text/html": [
       "<div>\n",
       "<style scoped>\n",
       "    .dataframe tbody tr th:only-of-type {\n",
       "        vertical-align: middle;\n",
       "    }\n",
       "\n",
       "    .dataframe tbody tr th {\n",
       "        vertical-align: top;\n",
       "    }\n",
       "\n",
       "    .dataframe thead th {\n",
       "        text-align: right;\n",
       "    }\n",
       "</style>\n",
       "<table border=\"1\" class=\"dataframe\">\n",
       "  <thead>\n",
       "    <tr style=\"text-align: right;\">\n",
       "      <th></th>\n",
       "      <th>NO.</th>\n",
       "      <th>Invert space</th>\n",
       "      <th>Preop R1</th>\n",
       "      <th>Postop R2</th>\n",
       "    </tr>\n",
       "  </thead>\n",
       "  <tbody>\n",
       "    <tr>\n",
       "      <th>0</th>\n",
       "      <td>1</td>\n",
       "      <td>L5-S1</td>\n",
       "      <td>0.242</td>\n",
       "      <td>0.297</td>\n",
       "    </tr>\n",
       "    <tr>\n",
       "      <th>1</th>\n",
       "      <td>2</td>\n",
       "      <td>L5-S1</td>\n",
       "      <td>0.175</td>\n",
       "      <td>0.210</td>\n",
       "    </tr>\n",
       "    <tr>\n",
       "      <th>2</th>\n",
       "      <td>3</td>\n",
       "      <td>L5-S1</td>\n",
       "      <td>0.213</td>\n",
       "      <td>0.287</td>\n",
       "    </tr>\n",
       "    <tr>\n",
       "      <th>3</th>\n",
       "      <td>4</td>\n",
       "      <td>L5-S1</td>\n",
       "      <td>0.183</td>\n",
       "      <td>0.218</td>\n",
       "    </tr>\n",
       "    <tr>\n",
       "      <th>4</th>\n",
       "      <td>5</td>\n",
       "      <td>L5-S1</td>\n",
       "      <td>0.268</td>\n",
       "      <td>0.327</td>\n",
       "    </tr>\n",
       "  </tbody>\n",
       "</table>\n",
       "</div>"
      ],
      "text/plain": [
       "   NO. Invert space  Preop R1  Postop R2\n",
       "0    1        L5-S1     0.242      0.297\n",
       "1    2        L5-S1     0.175      0.210\n",
       "2    3        L5-S1     0.213      0.287\n",
       "3    4        L5-S1     0.183      0.218\n",
       "4    5        L5-S1     0.268      0.327"
      ]
     },
     "execution_count": 237,
     "metadata": {},
     "output_type": "execute_result"
    }
   ],
   "source": [
    "L5 = pd.read_csv(\"L5-S1.csv\")\n",
    "L5.head()"
   ]
  },
  {
   "cell_type": "code",
   "execution_count": 238,
   "metadata": {},
   "outputs": [
    {
     "data": {
      "text/plain": [
       "count    22.000000\n",
       "mean      0.225318\n",
       "std       0.038971\n",
       "min       0.148000\n",
       "25%       0.206000\n",
       "50%       0.228500\n",
       "75%       0.246500\n",
       "max       0.318000\n",
       "Name: Preop R1, dtype: float64"
      ]
     },
     "execution_count": 238,
     "metadata": {},
     "output_type": "execute_result"
    }
   ],
   "source": [
    "L4['Preop R1'].describe()\n"
   ]
  },
  {
   "cell_type": "code",
   "execution_count": 239,
   "metadata": {},
   "outputs": [
    {
     "data": {
      "text/plain": [
       "count    22.000000\n",
       "mean      0.266227\n",
       "std       0.046142\n",
       "min       0.185000\n",
       "25%       0.239500\n",
       "50%       0.261000\n",
       "75%       0.292000\n",
       "max       0.375000\n",
       "Name: Postop R2, dtype: float64"
      ]
     },
     "execution_count": 239,
     "metadata": {},
     "output_type": "execute_result"
    }
   ],
   "source": [
    "L4['Postop R2'].describe()"
   ]
  },
  {
   "cell_type": "code",
   "execution_count": 240,
   "metadata": {},
   "outputs": [
    {
     "data": {
      "text/plain": [
       "count    7.000000\n",
       "mean     0.205714\n",
       "std      0.036714\n",
       "min      0.175000\n",
       "25%      0.179500\n",
       "50%      0.183000\n",
       "75%      0.227500\n",
       "max      0.268000\n",
       "Name: Preop R1, dtype: float64"
      ]
     },
     "execution_count": 240,
     "metadata": {},
     "output_type": "execute_result"
    }
   ],
   "source": [
    "L5['Preop R1'].describe()\n"
   ]
  },
  {
   "cell_type": "code",
   "execution_count": 241,
   "metadata": {},
   "outputs": [
    {
     "data": {
      "text/plain": [
       "count    7.000000\n",
       "mean     0.256429\n",
       "std      0.046238\n",
       "min      0.210000\n",
       "25%      0.221500\n",
       "50%      0.231000\n",
       "75%      0.292000\n",
       "max      0.327000\n",
       "Name: Postop R2, dtype: float64"
      ]
     },
     "execution_count": 241,
     "metadata": {},
     "output_type": "execute_result"
    }
   ],
   "source": [
    "L5['Postop R2'].describe()"
   ]
  },
  {
   "cell_type": "code",
   "execution_count": 242,
   "metadata": {},
   "outputs": [
    {
     "name": "stdout",
     "output_type": "stream",
     "text": [
      "mean 0    0.055\n",
      "1    0.035\n",
      "2    0.074\n",
      "3    0.035\n",
      "4    0.059\n",
      "5    0.044\n",
      "6    0.053\n",
      "dtype: float64\n"
     ]
    }
   ],
   "source": [
    "(L5['Postop R2'] - L5['Preop R1'])\n",
    "print('mean', (L5['Postop R2'] - L5['Preop R1']))\n",
    "data2 = (L5['Postop R2'] - L5['Preop R1']).mean()\n",
    "\n"
   ]
  },
  {
   "cell_type": "code",
   "execution_count": 243,
   "metadata": {},
   "outputs": [
    {
     "name": "stdout",
     "output_type": "stream",
     "text": [
      "mean 0     0.006\n",
      "1     0.057\n",
      "2     0.037\n",
      "3     0.004\n",
      "4     0.001\n",
      "5     0.081\n",
      "6     0.051\n",
      "7     0.039\n",
      "8     0.046\n",
      "9     0.041\n",
      "10    0.022\n",
      "11    0.017\n",
      "12    0.055\n",
      "13    0.045\n",
      "14    0.044\n",
      "15    0.059\n",
      "16    0.054\n",
      "17    0.046\n",
      "18    0.041\n",
      "19    0.044\n",
      "20    0.057\n",
      "21    0.053\n",
      "dtype: float64\n"
     ]
    },
    {
     "data": {
      "text/html": [
       "<div>\n",
       "<style scoped>\n",
       "    .dataframe tbody tr th:only-of-type {\n",
       "        vertical-align: middle;\n",
       "    }\n",
       "\n",
       "    .dataframe tbody tr th {\n",
       "        vertical-align: top;\n",
       "    }\n",
       "\n",
       "    .dataframe thead th {\n",
       "        text-align: right;\n",
       "    }\n",
       "</style>\n",
       "<table border=\"1\" class=\"dataframe\">\n",
       "  <thead>\n",
       "    <tr style=\"text-align: right;\">\n",
       "      <th></th>\n",
       "      <th>NO.</th>\n",
       "      <th>Invert space</th>\n",
       "      <th>Preop R1</th>\n",
       "      <th>Postop R2</th>\n",
       "    </tr>\n",
       "  </thead>\n",
       "  <tbody>\n",
       "    <tr>\n",
       "      <th>0</th>\n",
       "      <td>1</td>\n",
       "      <td>L4-L5</td>\n",
       "      <td>0.179</td>\n",
       "      <td>0.185</td>\n",
       "    </tr>\n",
       "    <tr>\n",
       "      <th>1</th>\n",
       "      <td>2</td>\n",
       "      <td>L4-L5</td>\n",
       "      <td>0.318</td>\n",
       "      <td>0.375</td>\n",
       "    </tr>\n",
       "    <tr>\n",
       "      <th>2</th>\n",
       "      <td>3</td>\n",
       "      <td>L4-L5</td>\n",
       "      <td>0.223</td>\n",
       "      <td>0.260</td>\n",
       "    </tr>\n",
       "    <tr>\n",
       "      <th>3</th>\n",
       "      <td>4</td>\n",
       "      <td>L4-L5</td>\n",
       "      <td>0.263</td>\n",
       "      <td>0.267</td>\n",
       "    </tr>\n",
       "    <tr>\n",
       "      <th>4</th>\n",
       "      <td>5</td>\n",
       "      <td>L4-L5</td>\n",
       "      <td>0.233</td>\n",
       "      <td>0.234</td>\n",
       "    </tr>\n",
       "  </tbody>\n",
       "</table>\n",
       "</div>"
      ],
      "text/plain": [
       "   NO. Invert space  Preop R1  Postop R2\n",
       "0    1        L4-L5     0.179      0.185\n",
       "1    2        L4-L5     0.318      0.375\n",
       "2    3        L4-L5     0.223      0.260\n",
       "3    4        L4-L5     0.263      0.267\n",
       "4    5        L4-L5     0.233      0.234"
      ]
     },
     "execution_count": 243,
     "metadata": {},
     "output_type": "execute_result"
    }
   ],
   "source": [
    "(L4['Postop R2'] - L4['Preop R1'])\n",
    "print('mean', (L4['Postop R2'] - L4['Preop R1'])) \n",
    "data1 = (L4['Postop R2'] - L4['Preop R1']).mean()\n",
    "\n",
    "L4.head()"
   ]
  },
  {
   "cell_type": "code",
   "execution_count": 244,
   "metadata": {},
   "outputs": [
    {
     "data": {
      "image/png": "[encoded data removed]",
      "text/plain": [
       "<Figure size 640x480 with 1 Axes>"
      ]
     },
     "metadata": {},
     "output_type": "display_data"
    }
   ],
   "source": [
    "df = pd.DataFrame(L4)\n",
    "ID = list(df.iloc[:,0])\n",
    "PE1 = list(df.iloc[:,2])\n",
    "PO1 = list(df.iloc[:,3])\n",
    "\n",
    "AV1 = [x + y for x, y in zip (PE1, PO1)]\n",
    "divisor = 2\n",
    "AV1 = [x / divisor for x in AV1]\n",
    "\n",
    "plt.hist(AV1, bins = 8, edgecolor = 'black') \n",
    "plt.title('distro of av in 1')\n",
    "plt.xlabel('height change')\n",
    "plt.ylabel('Number of patients')\n",
    "plt.show()\n"
   ]
  },
  {
   "cell_type": "code",
   "execution_count": 245,
   "metadata": {},
   "outputs": [
    {
     "data": {
      "image/png": "[encoded data removed]",
      "text/plain": [
       "<Figure size 640x480 with 1 Axes>"
      ]
     },
     "metadata": {},
     "output_type": "display_data"
    }
   ],
   "source": [
    "df = pd.DataFrame(L5)\n",
    "ID = list(df.iloc[:,0])\n",
    "PE2 = list(df.iloc[:,2])\n",
    "PO2 = list(df.iloc[:,3])\n",
    "\n",
    "AV2 = [x + y for x, y in zip (PE2, PO2)]\n",
    "divisor = 2\n",
    "AV2 = [x / divisor for x in AV2]\n",
    "\n",
    "plt.hist(AV2, bins = 8, edgecolor = 'black') \n",
    "plt.title('distro of av in 2')\n",
    "plt.xlabel('height change')\n",
    "plt.ylabel('Number of patients')\n",
    "plt.show()\n"
   ]
  },
  {
   "cell_type": "code",
   "execution_count": 246,
   "metadata": {},
   "outputs": [
    {
     "data": {
      "image/png": "[encoded data removed]",
      "text/plain": [
       "<Figure size 640x480 with 1 Axes>"
      ]
     },
     "metadata": {},
     "output_type": "display_data"
    }
   ],
   "source": [
    "plt.hist(AV1, bins = 8, edgecolor = 'black') \n",
    "plt.hist(AV2, bins = 8, edgecolor = 'black', color = 'orange') \n",
    "\n",
    "plt.show()"
   ]
  },
  {
   "cell_type": "markdown",
   "metadata": {},
   "source": [
    "greater height increase when implanted into L4-L5\n",
    "Outlier in L4-L5 group \n",
    "\n",
    "\n"
   ]
  },
  {
   "cell_type": "markdown",
   "metadata": {},
   "source": [
    "- NEXT STEPS \n",
    "chi square - goodness of fit \n",
    "P value for signif\n",
    "Correlation between pre/post op for both L4-L5 and L5-S1 \n"
   ]
  },
  {
   "cell_type": "code",
   "execution_count": null,
   "metadata": {},
   "outputs": [],
   "source": []
  }
 ],
 "metadata": {
  "kernelspec": {
   "display_name": "base",
   "language": "python",
   "name": "python3"
  },
  "language_info": {
   "codemirror_mode": {
    "name": "ipython",
    "version": 3
   },
   "file_extension": ".py",
   "mimetype": "text/x-python",
   "name": "python",
   "nbconvert_exporter": "python",
   "pygments_lexer": "ipython3",
   "version": "3.11.4"
  }
 },
 "nbformat": 4,
 "nbformat_minor": 2
}
